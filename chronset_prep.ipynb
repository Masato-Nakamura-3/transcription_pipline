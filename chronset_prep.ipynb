{
 "cells": [
  {
   "cell_type": "markdown",
   "id": "d55f62b8",
   "metadata": {},
   "source": [
    "This script creates zip files to upload to Chronset website.\n",
    "- Create zip files with 500 or fewer wav files (which is the maximum number for Chronset to handle)\n",
    "- Avoid the complicated issues caused by Mac when creating zip files\n",
    "- Catch some issues in the wav files that might cause errors when Chronset handels them"
   ]
  },
  {
   "cell_type": "markdown",
   "id": "8b4e8745",
   "metadata": {},
   "source": [
    "## Setting up"
   ]
  },
  {
   "cell_type": "code",
   "execution_count": 1,
   "id": "e3422946",
   "metadata": {
    "scrolled": true
   },
   "outputs": [],
   "source": [
    "import os\n",
    "import zipfile"
   ]
  },
  {
   "cell_type": "code",
   "execution_count": 2,
   "id": "73f5661f",
   "metadata": {},
   "outputs": [],
   "source": [
    "# Set the input directory\n",
    "wav_dir = \"/wav\"\n",
    "\n",
    "# Set the output directory\n",
    "zip_dir = \"/zipfiles\""
   ]
  },
  {
   "cell_type": "code",
   "execution_count": 3,
   "id": "ede2dfff",
   "metadata": {},
   "outputs": [],
   "source": [
    "# Set the name of the zip files\n",
    "# The output files will be named as \"{name}{number}\".zip (e.g. batch1_10.zip)\n",
    "zipname = \"batch1_\""
   ]
  },
  {
   "cell_type": "code",
   "execution_count": 4,
   "id": "3dc24201",
   "metadata": {},
   "outputs": [],
   "source": [
    "# Get the names of the wav files\n",
    "filenames = [i for i in os.listdir(wav_dir) if (\".wav\" in i)]"
   ]
  },
  {
   "cell_type": "markdown",
   "id": "7be096c7",
   "metadata": {},
   "source": [
    "#### Create batches of 500 wav files (which is the maximum file counts Chronset can handle)"
   ]
  },
  {
   "cell_type": "code",
   "execution_count": 6,
   "id": "7a9a87d8",
   "metadata": {
    "scrolled": true
   },
   "outputs": [
    {
     "data": {
      "text/plain": [
       "3660"
      ]
     },
     "execution_count": 6,
     "metadata": {},
     "output_type": "execute_result"
    }
   ],
   "source": [
    "# Total nuber of wav files\n",
    "len(filenames)"
   ]
  },
  {
   "cell_type": "code",
   "execution_count": 7,
   "id": "8e82e53c",
   "metadata": {},
   "outputs": [],
   "source": [
    "# Make lists of 500 or fewer wav files\n",
    "fewerthan500 = []\n",
    "temp = []\n",
    "for f in filenames:\n",
    "    temp.append(f)\n",
    "    if len(temp) == 500:\n",
    "        fewerthan500.append(temp)\n",
    "        temp = []\n",
    "if len(temp) > 0:\n",
    "    fewerthan500.append(temp)"
   ]
  },
  {
   "cell_type": "code",
   "execution_count": 8,
   "id": "d0897328",
   "metadata": {},
   "outputs": [
    {
     "data": {
      "text/plain": [
       "8"
      ]
     },
     "execution_count": 8,
     "metadata": {},
     "output_type": "execute_result"
    }
   ],
   "source": [
    "# Number of zip files\n",
    "len(fewerthan500)"
   ]
  },
  {
   "cell_type": "code",
   "execution_count": 9,
   "id": "dcc611e2",
   "metadata": {
    "scrolled": true
   },
   "outputs": [
    {
     "data": {
      "text/plain": [
       "160"
      ]
     },
     "execution_count": 9,
     "metadata": {},
     "output_type": "execute_result"
    }
   ],
   "source": [
    "# Number of wav files in the last zip file\n",
    "len(fewerthan500[-1])"
   ]
  },
  {
   "cell_type": "code",
   "execution_count": 10,
   "id": "e0f0f58c",
   "metadata": {},
   "outputs": [],
   "source": [
    "# Output zip files with 500 or fewer wav files in them\n",
    "fnum = 0\n",
    "for filelist in fewerthan500:\n",
    "    fnum = fnum + 1\n",
    "    with zipfile.ZipFile(os.path.join(zip_dir, zipname+str(fnum) + \".zip\"), 'w', compression=zipfile.ZIP_DEFLATED) as new_zip:\n",
    "        for f in filelist:\n",
    "            new_zip.write(os.path.join(wav_dir, f), arcname = f)"
   ]
  }
 ],
 "metadata": {
  "kernelspec": {
   "display_name": "Python 3",
   "language": "python",
   "name": "python3"
  },
  "language_info": {
   "codemirror_mode": {
    "name": "ipython",
    "version": 3
   },
   "file_extension": ".py",
   "mimetype": "text/x-python",
   "name": "python",
   "nbconvert_exporter": "python",
   "pygments_lexer": "ipython3",
   "version": "3.6.13"
  }
 },
 "nbformat": 4,
 "nbformat_minor": 5
}
