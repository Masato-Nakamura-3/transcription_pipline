{
 "cells": [
  {
   "cell_type": "code",
   "execution_count": 22,
   "id": "1874de55",
   "metadata": {},
   "outputs": [],
   "source": [
    "import os\n",
    "from pydub import AudioSegment"
   ]
  },
  {
   "cell_type": "code",
   "execution_count": 23,
   "id": "a16f1e1e",
   "metadata": {},
   "outputs": [],
   "source": [
    "wav_dir = \"/Users/masato/Box/cloze_experiments/DistractorCloze/recordings_11-64_critical\"\n",
    "all_path = [os.path.join(wav_dir, f) for f in os.listdir(wav_dir) if (\".wav\" in f)]\n",
    "\n",
    "# Set the back up directory (which stores the original stereo files)\n",
    "backup_dir = \"/Users/masato/Box/cloze_experiments/DistractorCloze/backup_wav/\""
   ]
  },
  {
   "cell_type": "code",
   "execution_count": 24,
   "id": "2efd8b9b",
   "metadata": {},
   "outputs": [],
   "source": [
    "large_files = [p for p in all_path if os.path.getsize(p)  > 400000] # This number depends on the length of the audio files"
   ]
  },
  {
   "cell_type": "code",
   "execution_count": 25,
   "id": "956da8d7",
   "metadata": {},
   "outputs": [],
   "source": [
    "# get subjects with large file sizes\n",
    "subj = list(set([os.path.splitext(f.split(\"_\")[-1])[0] for f in large_files]))"
   ]
  },
  {
   "cell_type": "code",
   "execution_count": 26,
   "id": "17aa3ea2",
   "metadata": {},
   "outputs": [],
   "source": [
    "# get path lists with those subjects\n",
    "rel_files = [os.path.join(wav_dir, f) for f in os.listdir(wav_dir) if (\".wav\" in f) and (any([s in f for s in subj]))]"
   ]
  },
  {
   "cell_type": "code",
   "execution_count": 33,
   "id": "3d4701e1",
   "metadata": {},
   "outputs": [
    {
     "name": "stdout",
     "output_type": "stream",
     "text": [
      "14 / 140\n",
      "28 / 140\n",
      "42 / 140\n",
      "56 / 140\n",
      "70 / 140\n",
      "84 / 140\n",
      "98 / 140\n",
      "112 / 140\n",
      "126 / 140\n",
      "140 / 140\n",
      "{'pinx', 'fgub', 'frjr'}\n"
     ]
    }
   ],
   "source": [
    "import math\n",
    "import shutil\n",
    "\n",
    "count = 0\n",
    "st_list = []\n",
    "\n",
    "for p in rel_files:\n",
    "    \n",
    "    total_number = len(rel_files)\n",
    "    \n",
    "    sound = AudioSegment.from_wav(p)\n",
    "    \n",
    "    if sound.channels > 1:\n",
    "        \n",
    "        shutil.copy(p, backup_dir)\n",
    "        \n",
    "        sound = sound.set_channels(1)\n",
    "        sound.export(p, format=\"wav\")\n",
    "        \n",
    "        st_list.append(os.path.splitext(p)[0].split(\"_\")[-1])\n",
    "    \n",
    "    count = count + 1\n",
    "        \n",
    "    if math.floor(10 * (count-1) / total_number) < math.floor(10 * count / total_number):\n",
    "        print(count, \"/\" , total_number)\n",
    "    \n",
    "if len(st_list) == 0:\n",
    "    print(\"All files are monoral\")\n",
    "else:\n",
    "    print(set(st_list))"
   ]
  },
  {
   "cell_type": "code",
   "execution_count": 34,
   "id": "1e6d2545",
   "metadata": {},
   "outputs": [],
   "source": [
    "# final check: \n",
    "sixty = [os.path.join(wav_dir, f) for f in os.listdir(wav_dir) if (\"exp_60\" in f)]"
   ]
  },
  {
   "cell_type": "code",
   "execution_count": 35,
   "id": "cb894895",
   "metadata": {},
   "outputs": [],
   "source": [
    "for p in sixty:\n",
    "    sound = AudioSegment.from_wav(p)\n",
    "    \n",
    "    if sound.channels > 1:\n",
    "        print(os.path.splitext(p)[0].split(\"_\")[-1])"
   ]
  },
  {
   "cell_type": "code",
   "execution_count": null,
   "id": "0e7db679",
   "metadata": {},
   "outputs": [],
   "source": [
    " "
   ]
  }
 ],
 "metadata": {
  "kernelspec": {
   "display_name": "Python 3",
   "language": "python",
   "name": "python3"
  },
  "language_info": {
   "codemirror_mode": {
    "name": "ipython",
    "version": 3
   },
   "file_extension": ".py",
   "mimetype": "text/x-python",
   "name": "python",
   "nbconvert_exporter": "python",
   "pygments_lexer": "ipython3",
   "version": "3.6.13"
  }
 },
 "nbformat": 4,
 "nbformat_minor": 5
}
