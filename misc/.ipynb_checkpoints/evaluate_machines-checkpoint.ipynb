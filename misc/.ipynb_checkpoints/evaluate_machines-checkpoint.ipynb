{
 "cells": [
  {
   "cell_type": "code",
   "execution_count": 31,
   "id": "3ce6cfaf",
   "metadata": {},
   "outputs": [],
   "source": [
    "import pandas as pd\n",
    "import matplotlib.pyplot as plt\n",
    "import numpy as np\n",
    "\n",
    "import os\n",
    "import textgrids\n",
    "import pickle"
   ]
  },
  {
   "cell_type": "code",
   "execution_count": 9,
   "id": "337b79c4",
   "metadata": {},
   "outputs": [],
   "source": [
    "#csvs = [\"/Users/masato/Documents/MISC/WinterStorm2022/automatic/acc_demo/result_batch1.csv\",\n",
    "#       \"/Users/masato/Documents/MISC/WinterStorm2022/automatic/acc_demo/result_batch2.csv\"]"
   ]
  },
  {
   "cell_type": "code",
   "execution_count": 87,
   "id": "2cb4d64a",
   "metadata": {},
   "outputs": [],
   "source": [
    "#cdata = pd.concat([pd.read_csv(csvs[0]), pd.read_csv(csvs[1])])\n",
    "cdata = pd.read_csv(\"/Users/masato/Documents/MISC/WinterStorm2022/automatic/acc_demo/d2.csv\")"
   ]
  },
  {
   "cell_type": "code",
   "execution_count": 88,
   "id": "98370eb3",
   "metadata": {},
   "outputs": [
    {
     "data": {
      "text/html": [
       "<div>\n",
       "<style scoped>\n",
       "    .dataframe tbody tr th:only-of-type {\n",
       "        vertical-align: middle;\n",
       "    }\n",
       "\n",
       "    .dataframe tbody tr th {\n",
       "        vertical-align: top;\n",
       "    }\n",
       "\n",
       "    .dataframe thead th {\n",
       "        text-align: right;\n",
       "    }\n",
       "</style>\n",
       "<table border=\"1\" class=\"dataframe\">\n",
       "  <thead>\n",
       "    <tr style=\"text-align: right;\">\n",
       "      <th></th>\n",
       "      <th>filenames</th>\n",
       "      <th>item_id</th>\n",
       "      <th>item_num</th>\n",
       "      <th>item_con</th>\n",
       "      <th>subject_id</th>\n",
       "      <th>response</th>\n",
       "      <th>rt</th>\n",
       "      <th>notes</th>\n",
       "    </tr>\n",
       "  </thead>\n",
       "  <tbody>\n",
       "    <tr>\n",
       "      <th>0</th>\n",
       "      <td>exp_10a_dwtk</td>\n",
       "      <td>10a</td>\n",
       "      <td>10</td>\n",
       "      <td>a</td>\n",
       "      <td>dwtk</td>\n",
       "      <td>hunted</td>\n",
       "      <td>2.114000</td>\n",
       "      <td>NaN</td>\n",
       "    </tr>\n",
       "    <tr>\n",
       "      <th>1</th>\n",
       "      <td>exp_10a_goxj</td>\n",
       "      <td>10a</td>\n",
       "      <td>10</td>\n",
       "      <td>a</td>\n",
       "      <td>goxj</td>\n",
       "      <td>caught</td>\n",
       "      <td>1.245163</td>\n",
       "      <td>NaN</td>\n",
       "    </tr>\n",
       "    <tr>\n",
       "      <th>2</th>\n",
       "      <td>exp_10a_hhbu</td>\n",
       "      <td>10a</td>\n",
       "      <td>10</td>\n",
       "      <td>a</td>\n",
       "      <td>hhbu</td>\n",
       "      <td>caught</td>\n",
       "      <td>0.912538</td>\n",
       "      <td>NaN</td>\n",
       "    </tr>\n",
       "    <tr>\n",
       "      <th>3</th>\n",
       "      <td>exp_10a_hltq</td>\n",
       "      <td>10a</td>\n",
       "      <td>10</td>\n",
       "      <td>a</td>\n",
       "      <td>hltq</td>\n",
       "      <td>eaten</td>\n",
       "      <td>1.558000</td>\n",
       "      <td>NaN</td>\n",
       "    </tr>\n",
       "    <tr>\n",
       "      <th>4</th>\n",
       "      <td>exp_10a_nril</td>\n",
       "      <td>10a</td>\n",
       "      <td>10</td>\n",
       "      <td>a</td>\n",
       "      <td>nril</td>\n",
       "      <td>chased</td>\n",
       "      <td>0.741000</td>\n",
       "      <td>NaN</td>\n",
       "    </tr>\n",
       "    <tr>\n",
       "      <th>...</th>\n",
       "      <td>...</td>\n",
       "      <td>...</td>\n",
       "      <td>...</td>\n",
       "      <td>...</td>\n",
       "      <td>...</td>\n",
       "      <td>...</td>\n",
       "      <td>...</td>\n",
       "      <td>...</td>\n",
       "    </tr>\n",
       "    <tr>\n",
       "      <th>4164</th>\n",
       "      <td>exp_9b_xnud</td>\n",
       "      <td>9b</td>\n",
       "      <td>9</td>\n",
       "      <td>b</td>\n",
       "      <td>xnud</td>\n",
       "      <td>helped</td>\n",
       "      <td>1.103824</td>\n",
       "      <td>NaN</td>\n",
       "    </tr>\n",
       "    <tr>\n",
       "      <th>4165</th>\n",
       "      <td>exp_9b_xsty</td>\n",
       "      <td>9b</td>\n",
       "      <td>9</td>\n",
       "      <td>b</td>\n",
       "      <td>xsty</td>\n",
       "      <td>kissed</td>\n",
       "      <td>0.971440</td>\n",
       "      <td>NaN</td>\n",
       "    </tr>\n",
       "    <tr>\n",
       "      <th>4166</th>\n",
       "      <td>exp_9b_ydyq</td>\n",
       "      <td>9b</td>\n",
       "      <td>9</td>\n",
       "      <td>b</td>\n",
       "      <td>ydyq</td>\n",
       "      <td>murdered</td>\n",
       "      <td>2.383000</td>\n",
       "      <td>NaN</td>\n",
       "    </tr>\n",
       "    <tr>\n",
       "      <th>4167</th>\n",
       "      <td>exp_9b_ynpp</td>\n",
       "      <td>9b</td>\n",
       "      <td>9</td>\n",
       "      <td>b</td>\n",
       "      <td>ynpp</td>\n",
       "      <td>seduced</td>\n",
       "      <td>1.427000</td>\n",
       "      <td>NaN</td>\n",
       "    </tr>\n",
       "    <tr>\n",
       "      <th>4168</th>\n",
       "      <td>exp_9b_zscx</td>\n",
       "      <td>9b</td>\n",
       "      <td>9</td>\n",
       "      <td>b</td>\n",
       "      <td>zscx</td>\n",
       "      <td>fingered</td>\n",
       "      <td>2.607000</td>\n",
       "      <td>NaN</td>\n",
       "    </tr>\n",
       "  </tbody>\n",
       "</table>\n",
       "<p>4169 rows × 8 columns</p>\n",
       "</div>"
      ],
      "text/plain": [
       "         filenames item_id  item_num item_con subject_id  response        rt  \\\n",
       "0     exp_10a_dwtk     10a        10        a       dwtk    hunted  2.114000   \n",
       "1     exp_10a_goxj     10a        10        a       goxj    caught  1.245163   \n",
       "2     exp_10a_hhbu     10a        10        a       hhbu    caught  0.912538   \n",
       "3     exp_10a_hltq     10a        10        a       hltq     eaten  1.558000   \n",
       "4     exp_10a_nril     10a        10        a       nril    chased  0.741000   \n",
       "...            ...     ...       ...      ...        ...       ...       ...   \n",
       "4164   exp_9b_xnud      9b         9        b       xnud    helped  1.103824   \n",
       "4165   exp_9b_xsty      9b         9        b       xsty    kissed  0.971440   \n",
       "4166   exp_9b_ydyq      9b         9        b       ydyq  murdered  2.383000   \n",
       "4167   exp_9b_ynpp      9b         9        b       ynpp   seduced  1.427000   \n",
       "4168   exp_9b_zscx      9b         9        b       zscx  fingered  2.607000   \n",
       "\n",
       "     notes  \n",
       "0      NaN  \n",
       "1      NaN  \n",
       "2      NaN  \n",
       "3      NaN  \n",
       "4      NaN  \n",
       "...    ...  \n",
       "4164   NaN  \n",
       "4165   NaN  \n",
       "4166   NaN  \n",
       "4167   NaN  \n",
       "4168   NaN  \n",
       "\n",
       "[4169 rows x 8 columns]"
      ]
     },
     "execution_count": 88,
     "metadata": {},
     "output_type": "execute_result"
    }
   ],
   "source": [
    "cdata"
   ]
  },
  {
   "cell_type": "code",
   "execution_count": 89,
   "id": "b2d696b1",
   "metadata": {},
   "outputs": [],
   "source": [
    "rdicts = [\"/Users/masato/Documents/MISC/WinterStorm2022/automatic/acc_demo/gcdict_batch1.p\",\n",
    "         \"/Users/masato/Documents/MISC/WinterStorm2022/automatic/acc_demo/gcloud.p\"]"
   ]
  },
  {
   "cell_type": "code",
   "execution_count": 90,
   "id": "ecfc2858",
   "metadata": {},
   "outputs": [],
   "source": [
    "trans_dict = pickle.load( open(rdicts[0], \"rb\" ) )\n",
    "gc2 = pickle.load( open(rdicts[1], \"rb\" ) )"
   ]
  },
  {
   "cell_type": "code",
   "execution_count": 91,
   "id": "c3c84268",
   "metadata": {},
   "outputs": [],
   "source": [
    "trans_dict.update(gc2)"
   ]
  },
  {
   "cell_type": "code",
   "execution_count": null,
   "id": "c1fa87fd",
   "metadata": {},
   "outputs": [],
   "source": []
  },
  {
   "cell_type": "code",
   "execution_count": 92,
   "id": "00dc347b",
   "metadata": {},
   "outputs": [],
   "source": [
    "chron_dict = dict()"
   ]
  },
  {
   "cell_type": "code",
   "execution_count": 93,
   "id": "820b53ff",
   "metadata": {},
   "outputs": [],
   "source": [
    "ch_dir = \"/Users/masato/Documents/MISC/WinterStorm2022/automatic/acc_demo/chronset\"\n",
    "for textf in [t for t in os.listdir(ch_dir) if \".txt\" in t]:\n",
    "    onset_df = pd.read_table(os.path.join(ch_dir, textf), names = [\"wav\", \"rt\"])\n",
    "    temp_dict = dict(zip([os.path.splitext(w)[0] for w in onset_df[\"wav\"]], onset_df[\"rt\"] / 1000))\n",
    "    chron_dict.update(temp_dict)"
   ]
  },
  {
   "cell_type": "markdown",
   "id": "b5a48351",
   "metadata": {},
   "source": [
    "## Compare transcriptions"
   ]
  },
  {
   "cell_type": "code",
   "execution_count": 96,
   "id": "428678e8",
   "metadata": {},
   "outputs": [],
   "source": [
    "rrt = [chron_dict[f] for f in cdata[\"filenames\"]]\n",
    "rtr = [trans_dict[f] for f in cdata[\"filenames\"]]\n"
   ]
  },
  {
   "cell_type": "code",
   "execution_count": 97,
   "id": "b9aaad9c",
   "metadata": {},
   "outputs": [],
   "source": [
    "comp = pd.DataFrame({\"filenames\": cdata[\"filenames\"],\"rawRT\": rrt, \"corRT\":cdata[\"rt\"], \"rawTr\":rtr, \"corTr\":cdata[\"response\"]})\n",
    "comp.reset_index(drop = True, inplace = True)"
   ]
  },
  {
   "cell_type": "code",
   "execution_count": 99,
   "id": "fd2d1285",
   "metadata": {},
   "outputs": [],
   "source": [
    "comp[\"diff\"] = comp[\"corRT\"] - comp[\"rawRT\"]"
   ]
  },
  {
   "cell_type": "code",
   "execution_count": 100,
   "id": "d4c5f3d4",
   "metadata": {},
   "outputs": [],
   "source": [
    "#comp[\"trans\"] = [comp[\"corTr\"] == comp[\"rawTr\"]]\n",
    "comp[\"trans_c\"] = [comp.loc[i, \"corTr\"].lower() == comp.loc[i, \"rawTr\"].lower() for i in comp.index]"
   ]
  },
  {
   "cell_type": "code",
   "execution_count": 101,
   "id": "cb6b7a38",
   "metadata": {},
   "outputs": [
    {
     "data": {
      "text/html": [
       "<div>\n",
       "<style scoped>\n",
       "    .dataframe tbody tr th:only-of-type {\n",
       "        vertical-align: middle;\n",
       "    }\n",
       "\n",
       "    .dataframe tbody tr th {\n",
       "        vertical-align: top;\n",
       "    }\n",
       "\n",
       "    .dataframe thead th {\n",
       "        text-align: right;\n",
       "    }\n",
       "</style>\n",
       "<table border=\"1\" class=\"dataframe\">\n",
       "  <thead>\n",
       "    <tr style=\"text-align: right;\">\n",
       "      <th></th>\n",
       "      <th>filenames</th>\n",
       "      <th>rawRT</th>\n",
       "      <th>corRT</th>\n",
       "      <th>rawTr</th>\n",
       "      <th>corTr</th>\n",
       "      <th>diff</th>\n",
       "      <th>trans_c</th>\n",
       "    </tr>\n",
       "  </thead>\n",
       "  <tbody>\n",
       "    <tr>\n",
       "      <th>0</th>\n",
       "      <td>exp_10a_dwtk</td>\n",
       "      <td>2.114</td>\n",
       "      <td>2.114000</td>\n",
       "      <td>Hunted</td>\n",
       "      <td>hunted</td>\n",
       "      <td>0.000000e+00</td>\n",
       "      <td>True</td>\n",
       "    </tr>\n",
       "    <tr>\n",
       "      <th>1</th>\n",
       "      <td>exp_10a_goxj</td>\n",
       "      <td>1.229</td>\n",
       "      <td>1.245163</td>\n",
       "      <td>caught</td>\n",
       "      <td>caught</td>\n",
       "      <td>1.616264e-02</td>\n",
       "      <td>True</td>\n",
       "    </tr>\n",
       "    <tr>\n",
       "      <th>2</th>\n",
       "      <td>exp_10a_hhbu</td>\n",
       "      <td>0.902</td>\n",
       "      <td>0.912538</td>\n",
       "      <td>caught</td>\n",
       "      <td>caught</td>\n",
       "      <td>1.053805e-02</td>\n",
       "      <td>True</td>\n",
       "    </tr>\n",
       "    <tr>\n",
       "      <th>3</th>\n",
       "      <td>exp_10a_hltq</td>\n",
       "      <td>1.558</td>\n",
       "      <td>1.558000</td>\n",
       "      <td>eaten</td>\n",
       "      <td>eaten</td>\n",
       "      <td>0.000000e+00</td>\n",
       "      <td>True</td>\n",
       "    </tr>\n",
       "    <tr>\n",
       "      <th>4</th>\n",
       "      <td>exp_10a_nril</td>\n",
       "      <td>0.741</td>\n",
       "      <td>0.741000</td>\n",
       "      <td>chased</td>\n",
       "      <td>chased</td>\n",
       "      <td>0.000000e+00</td>\n",
       "      <td>True</td>\n",
       "    </tr>\n",
       "    <tr>\n",
       "      <th>...</th>\n",
       "      <td>...</td>\n",
       "      <td>...</td>\n",
       "      <td>...</td>\n",
       "      <td>...</td>\n",
       "      <td>...</td>\n",
       "      <td>...</td>\n",
       "      <td>...</td>\n",
       "    </tr>\n",
       "    <tr>\n",
       "      <th>4164</th>\n",
       "      <td>exp_9b_xnud</td>\n",
       "      <td>1.162</td>\n",
       "      <td>1.103824</td>\n",
       "      <td>helped</td>\n",
       "      <td>helped</td>\n",
       "      <td>-5.817627e-02</td>\n",
       "      <td>True</td>\n",
       "    </tr>\n",
       "    <tr>\n",
       "      <th>4165</th>\n",
       "      <td>exp_9b_xsty</td>\n",
       "      <td>0.956</td>\n",
       "      <td>0.971440</td>\n",
       "      <td>kissed</td>\n",
       "      <td>kissed</td>\n",
       "      <td>1.544032e-02</td>\n",
       "      <td>True</td>\n",
       "    </tr>\n",
       "    <tr>\n",
       "      <th>4166</th>\n",
       "      <td>exp_9b_ydyq</td>\n",
       "      <td>2.383</td>\n",
       "      <td>2.383000</td>\n",
       "      <td>murders</td>\n",
       "      <td>murdered</td>\n",
       "      <td>0.000000e+00</td>\n",
       "      <td>False</td>\n",
       "    </tr>\n",
       "    <tr>\n",
       "      <th>4167</th>\n",
       "      <td>exp_9b_ynpp</td>\n",
       "      <td>1.427</td>\n",
       "      <td>1.427000</td>\n",
       "      <td>seduced</td>\n",
       "      <td>seduced</td>\n",
       "      <td>-2.220446e-16</td>\n",
       "      <td>True</td>\n",
       "    </tr>\n",
       "    <tr>\n",
       "      <th>4168</th>\n",
       "      <td>exp_9b_zscx</td>\n",
       "      <td>2.607</td>\n",
       "      <td>2.607000</td>\n",
       "      <td>finger</td>\n",
       "      <td>fingered</td>\n",
       "      <td>-4.440892e-16</td>\n",
       "      <td>False</td>\n",
       "    </tr>\n",
       "  </tbody>\n",
       "</table>\n",
       "<p>4169 rows × 7 columns</p>\n",
       "</div>"
      ],
      "text/plain": [
       "         filenames  rawRT     corRT    rawTr     corTr          diff  trans_c\n",
       "0     exp_10a_dwtk  2.114  2.114000   Hunted    hunted  0.000000e+00     True\n",
       "1     exp_10a_goxj  1.229  1.245163   caught    caught  1.616264e-02     True\n",
       "2     exp_10a_hhbu  0.902  0.912538   caught    caught  1.053805e-02     True\n",
       "3     exp_10a_hltq  1.558  1.558000    eaten     eaten  0.000000e+00     True\n",
       "4     exp_10a_nril  0.741  0.741000   chased    chased  0.000000e+00     True\n",
       "...            ...    ...       ...      ...       ...           ...      ...\n",
       "4164   exp_9b_xnud  1.162  1.103824   helped    helped -5.817627e-02     True\n",
       "4165   exp_9b_xsty  0.956  0.971440   kissed    kissed  1.544032e-02     True\n",
       "4166   exp_9b_ydyq  2.383  2.383000  murders  murdered  0.000000e+00    False\n",
       "4167   exp_9b_ynpp  1.427  1.427000  seduced   seduced -2.220446e-16     True\n",
       "4168   exp_9b_zscx  2.607  2.607000   finger  fingered -4.440892e-16    False\n",
       "\n",
       "[4169 rows x 7 columns]"
      ]
     },
     "execution_count": 101,
     "metadata": {},
     "output_type": "execute_result"
    }
   ],
   "source": [
    "comp"
   ]
  },
  {
   "cell_type": "code",
   "execution_count": 102,
   "id": "a82a706e",
   "metadata": {
    "scrolled": false
   },
   "outputs": [
    {
     "data": {
      "text/plain": [
       "0.8265771168145838"
      ]
     },
     "execution_count": 102,
     "metadata": {},
     "output_type": "execute_result"
    }
   ],
   "source": [
    "np.mean(comp[\"trans_c\"])"
   ]
  },
  {
   "cell_type": "code",
   "execution_count": 103,
   "id": "c05ebf1f",
   "metadata": {},
   "outputs": [],
   "source": [
    "#Transcription was 82.29% accurate"
   ]
  },
  {
   "cell_type": "code",
   "execution_count": 104,
   "id": "ebd6f326",
   "metadata": {
    "scrolled": true
   },
   "outputs": [
    {
     "data": {
      "text/plain": [
       "(array([1.00e+00, 0.00e+00, 0.00e+00, 2.00e+00, 5.00e+00, 9.00e+00,\n",
       "        3.30e+01, 1.28e+02, 3.04e+02, 2.88e+03, 7.34e+02, 9.00e+00,\n",
       "        2.00e+00, 4.00e+00, 2.00e+00, 1.00e+00, 1.00e+00, 1.00e+00,\n",
       "        1.00e+00, 0.00e+00, 0.00e+00, 0.00e+00, 0.00e+00, 2.00e+00,\n",
       "        3.00e+00, 1.00e+00, 0.00e+00, 0.00e+00, 1.00e+00, 1.00e+00]),\n",
       " array([-8.55147133e-01, -7.69588652e-01, -6.84030172e-01, -5.98471691e-01,\n",
       "        -5.12913211e-01, -4.27354730e-01, -3.41796250e-01, -2.56237769e-01,\n",
       "        -1.70679288e-01, -8.51208078e-02,  4.37672797e-04,  8.59961534e-02,\n",
       "         1.71554634e-01,  2.57113115e-01,  3.42671595e-01,  4.28230076e-01,\n",
       "         5.13788556e-01,  5.99347037e-01,  6.84905517e-01,  7.70463998e-01,\n",
       "         8.56022479e-01,  9.41580959e-01,  1.02713944e+00,  1.11269792e+00,\n",
       "         1.19825640e+00,  1.28381488e+00,  1.36937336e+00,  1.45493184e+00,\n",
       "         1.54049032e+00,  1.62604880e+00,  1.71160728e+00]),\n",
       " <BarContainer object of 30 artists>)"
      ]
     },
     "execution_count": 104,
     "metadata": {},
     "output_type": "execute_result"
    },
    {
     "data": {
      "image/png": "[encoded data removed]",
      "text/plain": [
       "<Figure size 432x288 with 1 Axes>"
      ]
     },
     "metadata": {
      "needs_background": "light"
     },
     "output_type": "display_data"
    }
   ],
   "source": [
    "plt.hist(comp[\"diff\"], bins = 30)"
   ]
  },
  {
   "cell_type": "code",
   "execution_count": 112,
   "id": "e8ed74c6",
   "metadata": {},
   "outputs": [
    {
     "data": {
      "text/plain": [
       "(array([4.000e+00, 4.000e+00, 3.000e+00, 7.000e+00, 8.000e+00, 2.000e+01,\n",
       "        3.600e+01, 4.600e+01, 6.600e+01, 9.400e+01, 1.140e+02, 1.800e+02,\n",
       "        3.120e+02, 4.940e+02, 2.639e+03, 5.800e+01, 5.000e+00, 5.000e+00,\n",
       "        3.000e+00, 1.000e+00, 1.000e+00, 0.000e+00, 1.000e+00, 0.000e+00,\n",
       "        1.000e+00, 4.000e+00, 1.000e+00, 0.000e+00, 0.000e+00, 1.000e+00]),\n",
       " array([-0.43194699, -0.40178298, -0.37161897, -0.34145496, -0.31129095,\n",
       "        -0.28112694, -0.25096293, -0.22079892, -0.19063491, -0.1604709 ,\n",
       "        -0.13030689, -0.10014288, -0.06997887, -0.03981486, -0.00965085,\n",
       "         0.02051316,  0.05067717,  0.08084118,  0.11100519,  0.1411692 ,\n",
       "         0.17133321,  0.20149722,  0.23166123,  0.26182524,  0.29198925,\n",
       "         0.32215326,  0.35231727,  0.38248128,  0.41264529,  0.4428093 ,\n",
       "         0.47297331]),\n",
       " <BarContainer object of 30 artists>)"
      ]
     },
     "execution_count": 112,
     "metadata": {},
     "output_type": "execute_result"
    },
    {
     "data": {
      "image/png": "[encoded data removed]",
      "text/plain": [
       "<Figure size 432x288 with 1 Axes>"
      ]
     },
     "metadata": {
      "needs_background": "light"
     },
     "output_type": "display_data"
    }
   ],
   "source": [
    "plt.hist(comp[np.abs(comp[\"diff\"]) <  0.5][\"diff\"], bins = 30)"
   ]
  },
  {
   "cell_type": "code",
   "execution_count": 105,
   "id": "6e791e78",
   "metadata": {},
   "outputs": [
    {
     "data": {
      "text/plain": [
       "0.001918925401775006"
      ]
     },
     "execution_count": 105,
     "metadata": {},
     "output_type": "execute_result"
    }
   ],
   "source": [
    "len(comp[np.abs(comp[\"diff\"]) >  1]) / len(comp)"
   ]
  },
  {
   "cell_type": "code",
   "execution_count": 106,
   "id": "afe415cb",
   "metadata": {},
   "outputs": [
    {
     "data": {
      "text/plain": [
       "0.004077716478771888"
      ]
     },
     "execution_count": 106,
     "metadata": {},
     "output_type": "execute_result"
    }
   ],
   "source": [
    "len(comp[np.abs(comp[\"diff\"]) >  0.5]) / len(comp)"
   ]
  },
  {
   "cell_type": "code",
   "execution_count": 107,
   "id": "9f02298c",
   "metadata": {},
   "outputs": [
    {
     "data": {
      "text/plain": [
       "0.010554089709762533"
      ]
     },
     "execution_count": 107,
     "metadata": {},
     "output_type": "execute_result"
    }
   ],
   "source": [
    "len(comp[np.abs(comp[\"diff\"]) >  0.3]) / len(comp)"
   ]
  },
  {
   "cell_type": "code",
   "execution_count": 108,
   "id": "2b0c3a8a",
   "metadata": {},
   "outputs": [
    {
     "data": {
      "text/plain": [
       "0.03190213480450947"
      ]
     },
     "execution_count": 108,
     "metadata": {},
     "output_type": "execute_result"
    }
   ],
   "source": [
    "len(comp[np.abs(comp[\"diff\"]) >  0.2]) / len(comp)"
   ]
  },
  {
   "cell_type": "code",
   "execution_count": 116,
   "id": "0075dd20",
   "metadata": {},
   "outputs": [
    {
     "data": {
      "text/plain": [
       "0.8961381626289278"
      ]
     },
     "execution_count": 116,
     "metadata": {},
     "output_type": "execute_result"
    }
   ],
   "source": [
    "1 - len(comp[np.abs(comp[\"diff\"]) >  0.1]) / len(comp)"
   ]
  },
  {
   "cell_type": "code",
   "execution_count": 115,
   "id": "58b18080",
   "metadata": {},
   "outputs": [
    {
     "data": {
      "text/plain": [
       "0.677620532501799"
      ]
     },
     "execution_count": 115,
     "metadata": {},
     "output_type": "execute_result"
    }
   ],
   "source": [
    "1 - len(comp[np.abs(comp[\"diff\"]) >  0.02]) / len(comp)"
   ]
  },
  {
   "cell_type": "code",
   "execution_count": null,
   "id": "46e7efa8",
   "metadata": {},
   "outputs": [],
   "source": []
  }
 ],
 "metadata": {
  "kernelspec": {
   "display_name": "Python 3",
   "language": "python",
   "name": "python3"
  },
  "language_info": {
   "codemirror_mode": {
    "name": "ipython",
    "version": 3
   },
   "file_extension": ".py",
   "mimetype": "text/x-python",
   "name": "python",
   "nbconvert_exporter": "python",
   "pygments_lexer": "ipython3",
   "version": "3.6.13"
  }
 },
 "nbformat": 4,
 "nbformat_minor": 5
}
