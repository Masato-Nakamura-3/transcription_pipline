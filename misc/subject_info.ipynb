{
 "cells": [
  {
   "cell_type": "markdown",
   "metadata": {},
   "source": [
    "This script maps the PC Ibex result files (one for each list) onto a table with subject information.\n",
    "Mostly for approving / rejecting HITs"
   ]
  },
  {
   "cell_type": "markdown",
   "metadata": {},
   "source": [
    "- subject_id used for filenames (4 alphabets)\n",
    "- the name of zip files\n",
    "- Unique Identifiers (8 alphabets/numbers)\n",
    "- Worker ID/Name"
   ]
  },
  {
   "cell_type": "markdown",
   "metadata": {},
   "source": [
    "*The names of the result csv files must end with the list id*"
   ]
  },
  {
   "cell_type": "code",
   "execution_count": 1,
   "metadata": {},
   "outputs": [],
   "source": [
    "import pandas as pd\n",
    "import os\n",
    "import numpy as np"
   ]
  },
  {
   "cell_type": "code",
   "execution_count": 2,
   "metadata": {},
   "outputs": [],
   "source": [
    "# Get the result directory\n",
    "# The last character/number must indicate the name of the latin-square list\n",
    "result_dir = \"/Users/masato/Box/cloze_experiments/filter/batch2/results\"\n",
    "\n",
    "# Set the output path\n",
    "output_path = \"/Users/masato/Box/cloze_experiments/filter/batch2/results/subj_table.csv\""
   ]
  },
  {
   "cell_type": "code",
   "execution_count": 3,
   "metadata": {},
   "outputs": [],
   "source": [
    "# Get the path of the result files\n",
    "file_list = [f for f in os.listdir(result_dir) if \"results\" in f]\n",
    "path_list = [os.path.join(result_dir, f) for f in file_list]"
   ]
  },
  {
   "cell_type": "code",
   "execution_count": 4,
   "metadata": {},
   "outputs": [],
   "source": [
    "# Get the relevant raws for all the lists / experiments\n",
    "\n",
    "idt_list_all = [] # identifier\n",
    "wid_list_all = [] # worker id\n",
    "fn_list_all = [] # zipfile names\n",
    "ls_list = [] # list id\n",
    "subjid_list_all = [] #subject id\n",
    "\n",
    "for p in path_list:\n",
    "    with open(p) as f:\n",
    "        raw = f.readlines()\n",
    "    list_id = os.path.splitext(os.path.basename(p))[0][-1]\n",
    "    rel1 = [i for i in raw if \"exit_form\" in i or \"DYNAMIC\" in i]\n",
    "    # Get the relevant raws\n",
    "    idt_list_raw = [r.split(\",\") for r in [i for i in rel1 if \"identifier\" in i]]\n",
    "    idt_list_all = idt_list_all + idt_list_raw\n",
    "    \n",
    "    wid_list_raw = [r.split(\",\") for r in [i for i in rel1 if \"worker_id\" in i]]\n",
    "    wid_list_all = wid_list_all + wid_list_raw\n",
    "    \n",
    "    fn_list_raw = [r.split(\",\") for r in [i for i in rel1 if \"Filename\" in i]]\n",
    "    fn_list_all = fn_list_all + fn_list_raw\n",
    "    \n",
    "    ls_list = ls_list + [list_id] * len(fn_list_raw)\n",
    "        \n",
    "    subjid_list_raw = [r.split(\",\") for r in [l for l in raw if \"exp_60\" in l]]\n",
    "    subjid_list_all = subjid_list_all + subjid_list_raw\n"
   ]
  },
  {
   "cell_type": "code",
   "execution_count": 5,
   "metadata": {},
   "outputs": [
    {
     "name": "stdout",
     "output_type": "stream",
     "text": [
      "True\n",
      "True\n"
     ]
    }
   ],
   "source": [
    "# Make sure the time and the ip address is lined up\n",
    "time_list = [idt_list_all[i][0] for i in range(0, len(idt_list_all))]\n",
    "time_list1 = [wid_list_all[i][0] for i in range(0, len(wid_list_all))]\n",
    "time_list2 = [fn_list_all[i][0] for i in range(0, len(fn_list_all))]\n",
    "\n",
    "ip_list = [idt_list_all[i][1] for i in range(0, len(idt_list_all))]\n",
    "ip_list1 = [wid_list_all[i][1] for i in range(0, len(wid_list_all))]\n",
    "ip_list2 = [fn_list_all[i][1] for i in range(0, len(fn_list_all))]\n",
    "\n",
    "print(time_list == time_list1 and time_list == time_list2)\n",
    "print(ip_list == ip_list1 and ip_list == ip_list2)"
   ]
  },
  {
   "cell_type": "code",
   "execution_count": 6,
   "metadata": {},
   "outputs": [],
   "source": [
    "# Convert times as strings to times as integers\n",
    "time_list_i = [int(i) for i in time_list]"
   ]
  },
  {
   "cell_type": "code",
   "execution_count": 7,
   "metadata": {},
   "outputs": [
    {
     "data": {
      "text/plain": [
       "True"
      ]
     },
     "execution_count": 7,
     "metadata": {},
     "output_type": "execute_result"
    }
   ],
   "source": [
    "# Get all the info\n",
    "idt_list = [idt_list_all[i][9] for i in range(0, len(idt_list_all))]\n",
    "wid_list = [wid_list_all[i][9] for i in range(0, len(wid_list_all))]\n",
    "fn_list = [fn_list_all[i][9] for i in range(0, len(fn_list_all))]\n",
    "\n",
    "subjid_list = [subjid_list_all[i][11] for i in range(0, len(subjid_list_all))]\n",
    "subjid_list_c = [subjid_list_all[i][7].split(\"_\")[-1] for i in range(0, len(subjid_list_all))]\n",
    "\n",
    "subjid_list == subjid_list_c"
   ]
  },
  {
   "cell_type": "code",
   "execution_count": 8,
   "metadata": {},
   "outputs": [],
   "source": [
    "# Create a table for all the info\n",
    "subj_table = pd.DataFrame({\"time\": time_list_i, \"ip\": ip_list, \"identifier\":idt_list, \"worker_id\": wid_list, \"subject_id\":subjid_list, \"filename\": fn_list, \"list\": ls_list})"
   ]
  },
  {
   "cell_type": "code",
   "execution_count": 9,
   "metadata": {},
   "outputs": [
    {
     "data": {
      "text/html": [
       "<div>\n",
       "<style scoped>\n",
       "    .dataframe tbody tr th:only-of-type {\n",
       "        vertical-align: middle;\n",
       "    }\n",
       "\n",
       "    .dataframe tbody tr th {\n",
       "        vertical-align: top;\n",
       "    }\n",
       "\n",
       "    .dataframe thead th {\n",
       "        text-align: right;\n",
       "    }\n",
       "</style>\n",
       "<table border=\"1\" class=\"dataframe\">\n",
       "  <thead>\n",
       "    <tr style=\"text-align: right;\">\n",
       "      <th></th>\n",
       "      <th>time</th>\n",
       "      <th>ip</th>\n",
       "      <th>identifier</th>\n",
       "      <th>worker_id</th>\n",
       "      <th>subject_id</th>\n",
       "      <th>filename</th>\n",
       "      <th>list</th>\n",
       "    </tr>\n",
       "  </thead>\n",
       "  <tbody>\n",
       "    <tr>\n",
       "      <th>0</th>\n",
       "      <td>1634674061</td>\n",
       "      <td>a478f9eac069713bf8bec8cc709b8cc9</td>\n",
       "      <td>123hjk!@#JKL</td>\n",
       "      <td>A5WWHKD82I8UE</td>\n",
       "      <td>ratq</td>\n",
       "      <td>9c098a92-e7ae-b684-47f1-876d10cc64d8.zip</td>\n",
       "      <td>a</td>\n",
       "    </tr>\n",
       "    <tr>\n",
       "      <th>1</th>\n",
       "      <td>1634773474</td>\n",
       "      <td>ea56f97381bd5ccffc3bbb2bcf6e2d67</td>\n",
       "      <td>T1dN4K8q</td>\n",
       "      <td>A146MSML39KY98</td>\n",
       "      <td>qulh</td>\n",
       "      <td>b2b2af9f-d52b-5148-16f5-471b751226f1.zip</td>\n",
       "      <td>a</td>\n",
       "    </tr>\n",
       "    <tr>\n",
       "      <th>2</th>\n",
       "      <td>1634919259</td>\n",
       "      <td>3695c6300e331dd45516f682886426eb</td>\n",
       "      <td>9zRROAlz</td>\n",
       "      <td>A1IFIK8J49WBER</td>\n",
       "      <td>qwmi</td>\n",
       "      <td>e618810b-6ba2-e92c-3fd1-443fecec81a1.zip</td>\n",
       "      <td>a</td>\n",
       "    </tr>\n",
       "    <tr>\n",
       "      <th>3</th>\n",
       "      <td>1634919674</td>\n",
       "      <td>d951c4539865f964caf92aaa45953e42</td>\n",
       "      <td>ZITu6LRU</td>\n",
       "      <td>A68J20100VW4W</td>\n",
       "      <td>zpfd</td>\n",
       "      <td>02fcdf1c-32db-12b8-af82-7a1db3736b29.zip</td>\n",
       "      <td>a</td>\n",
       "    </tr>\n",
       "    <tr>\n",
       "      <th>4</th>\n",
       "      <td>1634921014</td>\n",
       "      <td>349837944bd804d95ca74fb8f0299813</td>\n",
       "      <td>EBqRuITN</td>\n",
       "      <td>A002160837SWJFPIAI7L7</td>\n",
       "      <td>akjb</td>\n",
       "      <td>dbab31dd-be06-5afa-e075-fc1ebccb8d6a.zip</td>\n",
       "      <td>a</td>\n",
       "    </tr>\n",
       "    <tr>\n",
       "      <th>...</th>\n",
       "      <td>...</td>\n",
       "      <td>...</td>\n",
       "      <td>...</td>\n",
       "      <td>...</td>\n",
       "      <td>...</td>\n",
       "      <td>...</td>\n",
       "      <td>...</td>\n",
       "    </tr>\n",
       "    <tr>\n",
       "      <th>80</th>\n",
       "      <td>1636515361</td>\n",
       "      <td>702a87e3337142f34cc0a183ce4b1775</td>\n",
       "      <td>8144RD3</td>\n",
       "      <td>AWKP0M7G5BBCC</td>\n",
       "      <td>cnis</td>\n",
       "      <td>a8b16360-444c-fbd8-fa74-df71e24b40c4.zip</td>\n",
       "      <td>b</td>\n",
       "    </tr>\n",
       "    <tr>\n",
       "      <th>81</th>\n",
       "      <td>1636516009</td>\n",
       "      <td>0c6e919577d696c568efdfb9fff8118b</td>\n",
       "      <td>M6U31UPK</td>\n",
       "      <td>A2YW35WSBU88O0</td>\n",
       "      <td>ldan</td>\n",
       "      <td>bd0e9554-e009-0a5c-015e-e5bdbfcbff98.zip</td>\n",
       "      <td>b</td>\n",
       "    </tr>\n",
       "    <tr>\n",
       "      <th>82</th>\n",
       "      <td>1636516188</td>\n",
       "      <td>2a72860edc814f6d673d8e9ab761c9f9</td>\n",
       "      <td>Fr6yJot4</td>\n",
       "      <td>A11DLGQTOOSIWR</td>\n",
       "      <td>rmht</td>\n",
       "      <td>01fe8de8-9870-c8ef-e44b-69863cca28b2.zip</td>\n",
       "      <td>b</td>\n",
       "    </tr>\n",
       "    <tr>\n",
       "      <th>83</th>\n",
       "      <td>1636516217</td>\n",
       "      <td>e36229b29e6c03a51ed752bcb5f71fd5</td>\n",
       "      <td>FTe1isBP</td>\n",
       "      <td>A17TKHT8FEVH0R</td>\n",
       "      <td>ydyq</td>\n",
       "      <td>a3cf5e3e-61b1-1bec-657f-398085fab0bd.zip</td>\n",
       "      <td>b</td>\n",
       "    </tr>\n",
       "    <tr>\n",
       "      <th>84</th>\n",
       "      <td>1636529941</td>\n",
       "      <td>99113bc7c05df65f87dbe7ef55e14b91</td>\n",
       "      <td>SsJdIH4r</td>\n",
       "      <td>AA1IM0SAQ3XFM</td>\n",
       "      <td>qvem</td>\n",
       "      <td>28af2f04-71b3-dfe0-9cbd-6981b1b06be9.zip</td>\n",
       "      <td>b</td>\n",
       "    </tr>\n",
       "  </tbody>\n",
       "</table>\n",
       "<p>85 rows × 7 columns</p>\n",
       "</div>"
      ],
      "text/plain": [
       "          time                                ip    identifier  \\\n",
       "0   1634674061  a478f9eac069713bf8bec8cc709b8cc9  123hjk!@#JKL   \n",
       "1   1634773474  ea56f97381bd5ccffc3bbb2bcf6e2d67      T1dN4K8q   \n",
       "2   1634919259  3695c6300e331dd45516f682886426eb      9zRROAlz   \n",
       "3   1634919674  d951c4539865f964caf92aaa45953e42      ZITu6LRU   \n",
       "4   1634921014  349837944bd804d95ca74fb8f0299813      EBqRuITN   \n",
       "..         ...                               ...           ...   \n",
       "80  1636515361  702a87e3337142f34cc0a183ce4b1775       8144RD3   \n",
       "81  1636516009  0c6e919577d696c568efdfb9fff8118b      M6U31UPK   \n",
       "82  1636516188  2a72860edc814f6d673d8e9ab761c9f9      Fr6yJot4   \n",
       "83  1636516217  e36229b29e6c03a51ed752bcb5f71fd5      FTe1isBP   \n",
       "84  1636529941  99113bc7c05df65f87dbe7ef55e14b91      SsJdIH4r   \n",
       "\n",
       "                worker_id subject_id  \\\n",
       "0           A5WWHKD82I8UE       ratq   \n",
       "1          A146MSML39KY98       qulh   \n",
       "2          A1IFIK8J49WBER       qwmi   \n",
       "3           A68J20100VW4W       zpfd   \n",
       "4   A002160837SWJFPIAI7L7       akjb   \n",
       "..                    ...        ...   \n",
       "80          AWKP0M7G5BBCC       cnis   \n",
       "81         A2YW35WSBU88O0       ldan   \n",
       "82         A11DLGQTOOSIWR       rmht   \n",
       "83         A17TKHT8FEVH0R       ydyq   \n",
       "84          AA1IM0SAQ3XFM       qvem   \n",
       "\n",
       "                                    filename list  \n",
       "0   9c098a92-e7ae-b684-47f1-876d10cc64d8.zip    a  \n",
       "1   b2b2af9f-d52b-5148-16f5-471b751226f1.zip    a  \n",
       "2   e618810b-6ba2-e92c-3fd1-443fecec81a1.zip    a  \n",
       "3   02fcdf1c-32db-12b8-af82-7a1db3736b29.zip    a  \n",
       "4   dbab31dd-be06-5afa-e075-fc1ebccb8d6a.zip    a  \n",
       "..                                       ...  ...  \n",
       "80  a8b16360-444c-fbd8-fa74-df71e24b40c4.zip    b  \n",
       "81  bd0e9554-e009-0a5c-015e-e5bdbfcbff98.zip    b  \n",
       "82  01fe8de8-9870-c8ef-e44b-69863cca28b2.zip    b  \n",
       "83  a3cf5e3e-61b1-1bec-657f-398085fab0bd.zip    b  \n",
       "84  28af2f04-71b3-dfe0-9cbd-6981b1b06be9.zip    b  \n",
       "\n",
       "[85 rows x 7 columns]"
      ]
     },
     "execution_count": 9,
     "metadata": {},
     "output_type": "execute_result"
    }
   ],
   "source": [
    "subj_table"
   ]
  },
  {
   "cell_type": "code",
   "execution_count": 10,
   "metadata": {},
   "outputs": [
    {
     "name": "stdout",
     "output_type": "stream",
     "text": [
      "No multiple submissions\n"
     ]
    }
   ],
   "source": [
    "# See if there are multiple submissions from the same IP address\n",
    "if len(set(subj_table.ip)) != len(subj_table):\n",
    "    import collections\n",
    "    print(collections.Counter(subj_table.ip).most_common())\n",
    "\n",
    "else:\n",
    "    print(\"No multiple submissions\")\n"
   ]
  },
  {
   "cell_type": "code",
   "execution_count": null,
   "metadata": {},
   "outputs": [],
   "source": [
    "# Output the result into a csv file\n",
    "#subj_table.to_csv(output_path, index = False)"
   ]
  },
  {
   "cell_type": "code",
   "execution_count": null,
   "metadata": {},
   "outputs": [],
   "source": []
  },
  {
   "cell_type": "markdown",
   "metadata": {},
   "source": [
    "### Add batch info based on the reception time"
   ]
  },
  {
   "cell_type": "code",
   "execution_count": 11,
   "metadata": {},
   "outputs": [],
   "source": [
    "boundaries = [1634850000, 1636000000]"
   ]
  },
  {
   "cell_type": "code",
   "execution_count": 12,
   "metadata": {},
   "outputs": [],
   "source": [
    "subj_table[\"batch\"] = \"batch2\""
   ]
  },
  {
   "cell_type": "code",
   "execution_count": 13,
   "metadata": {},
   "outputs": [],
   "source": [
    "subj_table.loc[subj_table[\"time\"] < boundaries[0], [\"batch\"]] = \"pilot\"\n",
    "subj_table.loc[(subj_table[\"time\"] > boundaries[0]) & (subj_table[\"time\"] < boundaries[1]), [\"batch\"]] = \"batch1\""
   ]
  },
  {
   "cell_type": "code",
   "execution_count": 14,
   "metadata": {},
   "outputs": [],
   "source": [
    "# Output the result into a csv file\n",
    "subj_table.to_csv(output_path, index = False)"
   ]
  },
  {
   "cell_type": "markdown",
   "metadata": {},
   "source": [
    "### Use MTurk result files to add batch information and check submissions"
   ]
  },
  {
   "cell_type": "code",
   "execution_count": 17,
   "metadata": {},
   "outputs": [],
   "source": [
    "amt_res_dir = \"/Users/masato/Box/cloze_experiments/AMT/result_files\"\n",
    "id_string = \"q_masato_\""
   ]
  },
  {
   "cell_type": "code",
   "execution_count": 18,
   "metadata": {},
   "outputs": [],
   "source": [
    "amt_res_p = [os.path.join(amt_res_dir, fn) for fn in os.listdir(amt_res_dir) if id_string in fn]"
   ]
  },
  {
   "cell_type": "code",
   "execution_count": 20,
   "metadata": {},
   "outputs": [],
   "source": [
    "rcolnames = ['HITId', 'HITTypeId', 'Title', 'Description', 'Keywords', 'Reward',\n",
    "       'CreationTime', 'MaxAssignments', 'RequesterAnnotation',\n",
    "       'AssignmentDurationInSeconds', 'AutoApprovalDelayInSeconds',\n",
    "       'Expiration', 'NumberOfSimilarHITs', 'LifetimeInSeconds',\n",
    "       'AssignmentId', 'WorkerId', 'AssignmentStatus', 'AcceptTime',\n",
    "       'SubmitTime', 'AutoApprovalTime', 'ApprovalTime', 'RejectionTime',\n",
    "       'RequesterFeedback', 'WorkTimeInSeconds', 'LifetimeApprovalRate',\n",
    "       'Last30DaysApprovalRate', 'Last7DaysApprovalRate', 'Input.url',\n",
    "       'Answer.Code', 'Answer.FileName', 'Answer.Identifier', 'Answer.Name',\n",
    "       'Approve', 'Reject', 'UPDATE-Already participated (WYCL)'] + [\"BatchId\"]"
   ]
  },
  {
   "cell_type": "code",
   "execution_count": 21,
   "metadata": {},
   "outputs": [],
   "source": [
    "amt_result = None\n",
    "for p in amt_res_p:\n",
    "    t_amt_result = pd.read_csv(p)\n",
    "    batchid = os.path.splitext(p)[0].split(\"_\")[-1]\n",
    "    t_amt_result[\"BatchId\"] = batchid\n",
    "    \n",
    "    if \"amt_result\" in locals():\n",
    "        amt_result = pd.concat([amt_result, t_amt_result])\n",
    "    else:\n",
    "        amt_result = t_amt_result\n"
   ]
  },
  {
   "cell_type": "code",
   "execution_count": 22,
   "metadata": {},
   "outputs": [],
   "source": [
    "amtset = set(amt_result[\"WorkerId\"])\n",
    "pcibexset = set(subj_table[\"worker_id\"])"
   ]
  },
  {
   "cell_type": "code",
   "execution_count": 23,
   "metadata": {},
   "outputs": [],
   "source": [
    "not_in_pcibex = amtset - pcibexset\n",
    "not_in_amt = pcibexset - amtset"
   ]
  },
  {
   "cell_type": "code",
   "execution_count": 24,
   "metadata": {},
   "outputs": [
    {
     "data": {
      "text/plain": [
       "{'A2541C8MY0BYV3', 'AC5UD8N187QD6'}"
      ]
     },
     "execution_count": 24,
     "metadata": {},
     "output_type": "execute_result"
    }
   ],
   "source": [
    "not_in_pcibex"
   ]
  },
  {
   "cell_type": "code",
   "execution_count": 25,
   "metadata": {},
   "outputs": [
    {
     "data": {
      "text/plain": [
       "{'A2CY1TSQ3KKP5Q'}"
      ]
     },
     "execution_count": 25,
     "metadata": {},
     "output_type": "execute_result"
    }
   ],
   "source": [
    "not_in_amt"
   ]
  },
  {
   "cell_type": "code",
   "execution_count": 26,
   "metadata": {
    "scrolled": true
   },
   "outputs": [
    {
     "data": {
      "text/html": [
       "<div>\n",
       "<style scoped>\n",
       "    .dataframe tbody tr th:only-of-type {\n",
       "        vertical-align: middle;\n",
       "    }\n",
       "\n",
       "    .dataframe tbody tr th {\n",
       "        vertical-align: top;\n",
       "    }\n",
       "\n",
       "    .dataframe thead th {\n",
       "        text-align: right;\n",
       "    }\n",
       "</style>\n",
       "<table border=\"1\" class=\"dataframe\">\n",
       "  <thead>\n",
       "    <tr style=\"text-align: right;\">\n",
       "      <th></th>\n",
       "      <th>time</th>\n",
       "      <th>ip</th>\n",
       "      <th>identifier</th>\n",
       "      <th>worker_id</th>\n",
       "      <th>subject_id</th>\n",
       "      <th>filename</th>\n",
       "      <th>list</th>\n",
       "      <th>batch</th>\n",
       "    </tr>\n",
       "  </thead>\n",
       "  <tbody>\n",
       "    <tr>\n",
       "      <th>68</th>\n",
       "      <td>1636489502</td>\n",
       "      <td>7eb9a96eba14627d4513f5c083a181ef</td>\n",
       "      <td>VF1227</td>\n",
       "      <td>A2CY1TSQ3KKP5Q</td>\n",
       "      <td>glxa</td>\n",
       "      <td>3cdbc307-7818-12f6-7ad9-f471d527768b.zip</td>\n",
       "      <td>b</td>\n",
       "      <td>batch2</td>\n",
       "    </tr>\n",
       "  </tbody>\n",
       "</table>\n",
       "</div>"
      ],
      "text/plain": [
       "          time                                ip identifier       worker_id  \\\n",
       "68  1636489502  7eb9a96eba14627d4513f5c083a181ef     VF1227  A2CY1TSQ3KKP5Q   \n",
       "\n",
       "   subject_id                                  filename list   batch  \n",
       "68       glxa  3cdbc307-7818-12f6-7ad9-f471d527768b.zip    b  batch2  "
      ]
     },
     "execution_count": 26,
     "metadata": {},
     "output_type": "execute_result"
    }
   ],
   "source": [
    "subj_table[subj_table[\"worker_id\"].isin(not_in_amt)]"
   ]
  },
  {
   "cell_type": "code",
   "execution_count": 27,
   "metadata": {
    "scrolled": false
   },
   "outputs": [
    {
     "data": {
      "text/html": [
       "<div>\n",
       "<style scoped>\n",
       "    .dataframe tbody tr th:only-of-type {\n",
       "        vertical-align: middle;\n",
       "    }\n",
       "\n",
       "    .dataframe tbody tr th {\n",
       "        vertical-align: top;\n",
       "    }\n",
       "\n",
       "    .dataframe thead th {\n",
       "        text-align: right;\n",
       "    }\n",
       "</style>\n",
       "<table border=\"1\" class=\"dataframe\">\n",
       "  <thead>\n",
       "    <tr style=\"text-align: right;\">\n",
       "      <th></th>\n",
       "      <th>HITId</th>\n",
       "      <th>HITTypeId</th>\n",
       "      <th>Title</th>\n",
       "      <th>Description</th>\n",
       "      <th>Keywords</th>\n",
       "      <th>Reward</th>\n",
       "      <th>CreationTime</th>\n",
       "      <th>MaxAssignments</th>\n",
       "      <th>RequesterAnnotation</th>\n",
       "      <th>AssignmentDurationInSeconds</th>\n",
       "      <th>...</th>\n",
       "      <th>Last7DaysApprovalRate</th>\n",
       "      <th>Input.url</th>\n",
       "      <th>Answer.Code</th>\n",
       "      <th>Answer.FileName</th>\n",
       "      <th>Answer.Identifier</th>\n",
       "      <th>Answer.Name</th>\n",
       "      <th>Approve</th>\n",
       "      <th>Reject</th>\n",
       "      <th>UPDATE-Already participated (WYCL)</th>\n",
       "      <th>BatchId</th>\n",
       "    </tr>\n",
       "  </thead>\n",
       "  <tbody>\n",
       "    <tr>\n",
       "      <th>0</th>\n",
       "      <td>3CRWSLD91J3Z00ZD8ON2CYN2KZWOMF</td>\n",
       "      <td>3BS7Z4CKG2IL4K9Q0W8XGEYY8OBQYP</td>\n",
       "      <td>Try to guess the next word! (audio recording s...</td>\n",
       "      <td>30-minute task: Read incomplete sentences and ...</td>\n",
       "      <td>Linguistics, Science, Research, University of ...</td>\n",
       "      <td>$6.00</td>\n",
       "      <td>Tue Oct 19 12:23:21 PDT 2021</td>\n",
       "      <td>1</td>\n",
       "      <td>BatchId:4580488;OriginalHitTemplateId:920937340;</td>\n",
       "      <td>3600</td>\n",
       "      <td>...</td>\n",
       "      <td>100% (1/1)</td>\n",
       "      <td>https://farm.pcibex.net/p/sguzME/</td>\n",
       "      <td>no code received</td>\n",
       "      <td>{}</td>\n",
       "      <td>powIEz0Z</td>\n",
       "      <td>nj</td>\n",
       "      <td>NaN</td>\n",
       "      <td>NaN</td>\n",
       "      <td>1</td>\n",
       "      <td>pilot</td>\n",
       "    </tr>\n",
       "    <tr>\n",
       "      <th>5</th>\n",
       "      <td>3TTPFEFXCSJNJGSYHVLV3TTFID3H6A</td>\n",
       "      <td>3BS7Z4CKG2IL4K9Q0W8XGEYY8OBQYP</td>\n",
       "      <td>Try to guess the next word! (audio recording s...</td>\n",
       "      <td>30-minute task: Read incomplete sentences and ...</td>\n",
       "      <td>Linguistics, Science, Research, University of ...</td>\n",
       "      <td>$6.00</td>\n",
       "      <td>Tue Oct 19 12:23:21 PDT 2021</td>\n",
       "      <td>2</td>\n",
       "      <td>BatchId:4580488;OriginalHitTemplateId:920937340;</td>\n",
       "      <td>3600</td>\n",
       "      <td>...</td>\n",
       "      <td>0% (0/1)</td>\n",
       "      <td>https://farm.pcibex.net/p/sguzME/</td>\n",
       "      <td>A2541C8MY0BYV3</td>\n",
       "      <td>{}</td>\n",
       "      <td>A2541C8MY0BYV3</td>\n",
       "      <td>BC</td>\n",
       "      <td>NaN</td>\n",
       "      <td>NaN</td>\n",
       "      <td>1</td>\n",
       "      <td>pilot</td>\n",
       "    </tr>\n",
       "  </tbody>\n",
       "</table>\n",
       "<p>2 rows × 36 columns</p>\n",
       "</div>"
      ],
      "text/plain": [
       "                            HITId                       HITTypeId  \\\n",
       "0  3CRWSLD91J3Z00ZD8ON2CYN2KZWOMF  3BS7Z4CKG2IL4K9Q0W8XGEYY8OBQYP   \n",
       "5  3TTPFEFXCSJNJGSYHVLV3TTFID3H6A  3BS7Z4CKG2IL4K9Q0W8XGEYY8OBQYP   \n",
       "\n",
       "                                               Title  \\\n",
       "0  Try to guess the next word! (audio recording s...   \n",
       "5  Try to guess the next word! (audio recording s...   \n",
       "\n",
       "                                         Description  \\\n",
       "0  30-minute task: Read incomplete sentences and ...   \n",
       "5  30-minute task: Read incomplete sentences and ...   \n",
       "\n",
       "                                            Keywords Reward  \\\n",
       "0  Linguistics, Science, Research, University of ...  $6.00   \n",
       "5  Linguistics, Science, Research, University of ...  $6.00   \n",
       "\n",
       "                   CreationTime  MaxAssignments  \\\n",
       "0  Tue Oct 19 12:23:21 PDT 2021               1   \n",
       "5  Tue Oct 19 12:23:21 PDT 2021               2   \n",
       "\n",
       "                                RequesterAnnotation  \\\n",
       "0  BatchId:4580488;OriginalHitTemplateId:920937340;   \n",
       "5  BatchId:4580488;OriginalHitTemplateId:920937340;   \n",
       "\n",
       "   AssignmentDurationInSeconds  ...  Last7DaysApprovalRate  \\\n",
       "0                         3600  ...             100% (1/1)   \n",
       "5                         3600  ...               0% (0/1)   \n",
       "\n",
       "                           Input.url       Answer.Code  Answer.FileName  \\\n",
       "0  https://farm.pcibex.net/p/sguzME/  no code received               {}   \n",
       "5  https://farm.pcibex.net/p/sguzME/    A2541C8MY0BYV3               {}   \n",
       "\n",
       "  Answer.Identifier Answer.Name Approve Reject  \\\n",
       "0          powIEz0Z          nj     NaN    NaN   \n",
       "5    A2541C8MY0BYV3          BC     NaN    NaN   \n",
       "\n",
       "  UPDATE-Already participated (WYCL) BatchId  \n",
       "0                                  1   pilot  \n",
       "5                                  1   pilot  \n",
       "\n",
       "[2 rows x 36 columns]"
      ]
     },
     "execution_count": 27,
     "metadata": {},
     "output_type": "execute_result"
    }
   ],
   "source": [
    "amt_result[amt_result[\"WorkerId\"].isin(not_in_pcibex)]"
   ]
  },
  {
   "cell_type": "code",
   "execution_count": 34,
   "metadata": {},
   "outputs": [],
   "source": [
    "b2 = subj_table[subj_table[\"batch\"] == \"batch2\"]"
   ]
  },
  {
   "cell_type": "code",
   "execution_count": 72,
   "metadata": {},
   "outputs": [],
   "source": [
    "checklist = []\n",
    "for w in subj_table.worker_id:\n",
    "    \n",
    "    if np.sum(amt_result[\"WorkerId\"] == w) == 0:\n",
    "        checklist.append(w)\n",
    "    else:\n",
    "        amt_id = amt_result[amt_result[\"WorkerId\"] == w][\"Answer.Identifier\"].iloc[0]\n",
    "        pc_id = subj_table[subj_table[\"worker_id\"] == w][\"identifier\"].iloc[0]\n",
    "    \n",
    "        if amt_id != pc_id:\n",
    "            checklist.append(w)"
   ]
  },
  {
   "cell_type": "code",
   "execution_count": 73,
   "metadata": {},
   "outputs": [
    {
     "data": {
      "text/plain": [
       "['A68J20100VW4W', 'A2CY1TSQ3KKP5Q']"
      ]
     },
     "execution_count": 73,
     "metadata": {},
     "output_type": "execute_result"
    }
   ],
   "source": [
    "checklist"
   ]
  },
  {
   "cell_type": "code",
   "execution_count": 75,
   "metadata": {},
   "outputs": [
    {
     "data": {
      "text/html": [
       "<div>\n",
       "<style scoped>\n",
       "    .dataframe tbody tr th:only-of-type {\n",
       "        vertical-align: middle;\n",
       "    }\n",
       "\n",
       "    .dataframe tbody tr th {\n",
       "        vertical-align: top;\n",
       "    }\n",
       "\n",
       "    .dataframe thead th {\n",
       "        text-align: right;\n",
       "    }\n",
       "</style>\n",
       "<table border=\"1\" class=\"dataframe\">\n",
       "  <thead>\n",
       "    <tr style=\"text-align: right;\">\n",
       "      <th></th>\n",
       "      <th>time</th>\n",
       "      <th>ip</th>\n",
       "      <th>identifier</th>\n",
       "      <th>worker_id</th>\n",
       "      <th>subject_id</th>\n",
       "      <th>filename</th>\n",
       "      <th>list</th>\n",
       "      <th>batch</th>\n",
       "    </tr>\n",
       "  </thead>\n",
       "  <tbody>\n",
       "    <tr>\n",
       "      <th>3</th>\n",
       "      <td>1634919674</td>\n",
       "      <td>d951c4539865f964caf92aaa45953e42</td>\n",
       "      <td>ZITu6LRU</td>\n",
       "      <td>A68J20100VW4W</td>\n",
       "      <td>zpfd</td>\n",
       "      <td>02fcdf1c-32db-12b8-af82-7a1db3736b29.zip</td>\n",
       "      <td>a</td>\n",
       "      <td>batch1</td>\n",
       "    </tr>\n",
       "    <tr>\n",
       "      <th>68</th>\n",
       "      <td>1636489502</td>\n",
       "      <td>7eb9a96eba14627d4513f5c083a181ef</td>\n",
       "      <td>VF1227</td>\n",
       "      <td>A2CY1TSQ3KKP5Q</td>\n",
       "      <td>glxa</td>\n",
       "      <td>3cdbc307-7818-12f6-7ad9-f471d527768b.zip</td>\n",
       "      <td>b</td>\n",
       "      <td>batch2</td>\n",
       "    </tr>\n",
       "  </tbody>\n",
       "</table>\n",
       "</div>"
      ],
      "text/plain": [
       "          time                                ip identifier       worker_id  \\\n",
       "3   1634919674  d951c4539865f964caf92aaa45953e42   ZITu6LRU   A68J20100VW4W   \n",
       "68  1636489502  7eb9a96eba14627d4513f5c083a181ef     VF1227  A2CY1TSQ3KKP5Q   \n",
       "\n",
       "   subject_id                                  filename list   batch  \n",
       "3        zpfd  02fcdf1c-32db-12b8-af82-7a1db3736b29.zip    a  batch1  \n",
       "68       glxa  3cdbc307-7818-12f6-7ad9-f471d527768b.zip    b  batch2  "
      ]
     },
     "execution_count": 75,
     "metadata": {},
     "output_type": "execute_result"
    }
   ],
   "source": [
    "subj_table[subj_table[\"worker_id\"].isin(checklist)]"
   ]
  },
  {
   "cell_type": "code",
   "execution_count": 78,
   "metadata": {},
   "outputs": [
    {
     "data": {
      "text/html": [
       "<div>\n",
       "<style scoped>\n",
       "    .dataframe tbody tr th:only-of-type {\n",
       "        vertical-align: middle;\n",
       "    }\n",
       "\n",
       "    .dataframe tbody tr th {\n",
       "        vertical-align: top;\n",
       "    }\n",
       "\n",
       "    .dataframe thead th {\n",
       "        text-align: right;\n",
       "    }\n",
       "</style>\n",
       "<table border=\"1\" class=\"dataframe\">\n",
       "  <thead>\n",
       "    <tr style=\"text-align: right;\">\n",
       "      <th></th>\n",
       "      <th>HITId</th>\n",
       "      <th>HITTypeId</th>\n",
       "      <th>Title</th>\n",
       "      <th>Description</th>\n",
       "      <th>Keywords</th>\n",
       "      <th>Reward</th>\n",
       "      <th>CreationTime</th>\n",
       "      <th>MaxAssignments</th>\n",
       "      <th>RequesterAnnotation</th>\n",
       "      <th>AssignmentDurationInSeconds</th>\n",
       "      <th>...</th>\n",
       "      <th>Last7DaysApprovalRate</th>\n",
       "      <th>Input.url</th>\n",
       "      <th>Answer.Code</th>\n",
       "      <th>Answer.FileName</th>\n",
       "      <th>Answer.Identifier</th>\n",
       "      <th>Answer.Name</th>\n",
       "      <th>Approve</th>\n",
       "      <th>Reject</th>\n",
       "      <th>UPDATE-Already participated (WYCL)</th>\n",
       "      <th>BatchId</th>\n",
       "    </tr>\n",
       "  </thead>\n",
       "  <tbody>\n",
       "    <tr>\n",
       "      <th>12</th>\n",
       "      <td>35U0MRQMUI6IQNTMMGOTZU6FBV1VO2</td>\n",
       "      <td>3X2H010HBRVVF0VJKQQ2C07YPVIR2A</td>\n",
       "      <td>Try to guess the next word! (audio recording s...</td>\n",
       "      <td>30-minute task: Read incomplete sentences and ...</td>\n",
       "      <td>Linguistics, Science, Research, University of ...</td>\n",
       "      <td>$6.00</td>\n",
       "      <td>Fri Oct 22 08:38:30 PDT 2021</td>\n",
       "      <td>5</td>\n",
       "      <td>BatchId:4583144;OriginalHitTemplateId:920937340;</td>\n",
       "      <td>5400</td>\n",
       "      <td>...</td>\n",
       "      <td>100% (1/1)</td>\n",
       "      <td>https://farm.pcibex.net/p/sguzME/</td>\n",
       "      <td>ZlTu6LRU</td>\n",
       "      <td>{}</td>\n",
       "      <td>nD3i9E</td>\n",
       "      <td>ml</td>\n",
       "      <td>NaN</td>\n",
       "      <td>NaN</td>\n",
       "      <td>1</td>\n",
       "      <td>batch1</td>\n",
       "    </tr>\n",
       "  </tbody>\n",
       "</table>\n",
       "<p>1 rows × 36 columns</p>\n",
       "</div>"
      ],
      "text/plain": [
       "                             HITId                       HITTypeId  \\\n",
       "12  35U0MRQMUI6IQNTMMGOTZU6FBV1VO2  3X2H010HBRVVF0VJKQQ2C07YPVIR2A   \n",
       "\n",
       "                                                Title  \\\n",
       "12  Try to guess the next word! (audio recording s...   \n",
       "\n",
       "                                          Description  \\\n",
       "12  30-minute task: Read incomplete sentences and ...   \n",
       "\n",
       "                                             Keywords Reward  \\\n",
       "12  Linguistics, Science, Research, University of ...  $6.00   \n",
       "\n",
       "                    CreationTime  MaxAssignments  \\\n",
       "12  Fri Oct 22 08:38:30 PDT 2021               5   \n",
       "\n",
       "                                 RequesterAnnotation  \\\n",
       "12  BatchId:4583144;OriginalHitTemplateId:920937340;   \n",
       "\n",
       "    AssignmentDurationInSeconds  ...  Last7DaysApprovalRate  \\\n",
       "12                         5400  ...             100% (1/1)   \n",
       "\n",
       "                            Input.url  Answer.Code  Answer.FileName  \\\n",
       "12  https://farm.pcibex.net/p/sguzME/     ZlTu6LRU               {}   \n",
       "\n",
       "   Answer.Identifier Answer.Name Approve Reject  \\\n",
       "12            nD3i9E          ml     NaN    NaN   \n",
       "\n",
       "   UPDATE-Already participated (WYCL) BatchId  \n",
       "12                                  1  batch1  \n",
       "\n",
       "[1 rows x 36 columns]"
      ]
     },
     "execution_count": 78,
     "metadata": {},
     "output_type": "execute_result"
    }
   ],
   "source": [
    "amt_result[amt_result[\"WorkerId\"].isin(checklist)]"
   ]
  },
  {
   "cell_type": "code",
   "execution_count": null,
   "metadata": {},
   "outputs": [],
   "source": []
  }
 ],
 "metadata": {
  "kernelspec": {
   "display_name": "Python 3",
   "language": "python",
   "name": "python3"
  },
  "language_info": {
   "codemirror_mode": {
    "name": "ipython",
    "version": 3
   },
   "file_extension": ".py",
   "mimetype": "text/x-python",
   "name": "python",
   "nbconvert_exporter": "python",
   "pygments_lexer": "ipython3",
   "version": "3.6.13"
  }
 },
 "nbformat": 4,
 "nbformat_minor": 4
}
